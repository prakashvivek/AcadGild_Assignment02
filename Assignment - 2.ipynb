{
 "cells": [
  {
   "cell_type": "code",
   "execution_count": null,
   "metadata": {},
   "outputs": [],
   "source": [
    "#1.1\n",
    "#Write a Python Program to implement your own myreduce() function which works exactly like\n",
    "#Python's built-in function reduce()"
   ]
  },
  {
   "cell_type": "code",
   "execution_count": 24,
   "metadata": {},
   "outputs": [
    {
     "data": {
      "text/plain": [
       "720"
      ]
     },
     "execution_count": 24,
     "metadata": {},
     "output_type": "execute_result"
    }
   ],
   "source": [
    "#writing a reduce functions\n",
    "# Below Function is to get the multiplication result of all the numbers in list\n",
    "def multiReduce(args):\n",
    "    product = 1\n",
    "    for x in args:\n",
    "        product = product * x\n",
    "        \n",
    "    return product\n",
    "\n",
    "# below is list to call the \n",
    "l = [1,2,3,4,5,6]\n",
    "multiReduce(l)"
   ]
  },
  {
   "cell_type": "code",
   "execution_count": null,
   "metadata": {},
   "outputs": [],
   "source": [
    "#1.2\n",
    "#Write a Python program to implement your own myfilter() function which works exactly like\n",
    "#Python's built-in function filter()"
   ]
  },
  {
   "cell_type": "code",
   "execution_count": 25,
   "metadata": {},
   "outputs": [
    {
     "data": {
      "text/plain": [
       "['a', 'e', 'i']"
      ]
     },
     "execution_count": 25,
     "metadata": {},
     "output_type": "execute_result"
    }
   ],
   "source": [
    "#Function to check Vowels in String being sent as parameter\n",
    "def checkVowels(alphabet):\n",
    "    Vowels = ['a','e','i','o','u']\n",
    "    if alphabet in Vowels:\n",
    "        return alphabet\n",
    "    else:\n",
    "        return ''\n",
    "\n",
    "#Function to get the vowels filtered out    \n",
    "def myFilter(checkVowels,param):\n",
    "    l = []\n",
    "    for x in param:\n",
    "        if(checkVowels(x) != ''):\n",
    "            l.append(checkVowels(x))\n",
    "    return l\n",
    "\n",
    "#string from which vowels to be filtered out\n",
    "str = 'abcdefghi'\n",
    "\n",
    "myFilter(checkVowels,str)  "
   ]
  },
  {
   "cell_type": "code",
   "execution_count": null,
   "metadata": {},
   "outputs": [],
   "source": [
    "#Implement List comprehensions to produce the following lists.\n",
    "#Write List comprehensions to produce the following Lists\n",
    "['A', 'C', 'A', 'D', 'G', 'I', ’L’, ‘ D’]"
   ]
  },
  {
   "cell_type": "code",
   "execution_count": 26,
   "metadata": {},
   "outputs": [
    {
     "data": {
      "text/plain": [
       "['A', 'C', 'A', 'D', 'G', 'I', 'L', 'D']"
      ]
     },
     "execution_count": 26,
     "metadata": {},
     "output_type": "execute_result"
    }
   ],
   "source": [
    "str = 'ACADGILD'\n",
    "[x for x in str]"
   ]
  },
  {
   "cell_type": "code",
   "execution_count": null,
   "metadata": {},
   "outputs": [],
   "source": [
    "#Write List comprehensions to produce the following Lists\n",
    "#['x', 'xx', 'xxx', 'xxxx', 'y', 'yy', 'yyy', 'yyyy', 'z', 'zz', 'zzz', 'zzzz']"
   ]
  },
  {
   "cell_type": "code",
   "execution_count": 27,
   "metadata": {},
   "outputs": [
    {
     "data": {
      "text/plain": [
       "['x', 'xx', 'xxx', 'xxxx', 'y', 'yy', 'yyy', 'yyyy', 'z', 'zz', 'zzz', 'zzzz']"
      ]
     },
     "execution_count": 27,
     "metadata": {},
     "output_type": "execute_result"
    }
   ],
   "source": [
    "list = ['x','y','z']\n",
    "list1 = [1,2,3,4]\n",
    "[(e)*n for e in list for n in list1]"
   ]
  },
  {
   "cell_type": "code",
   "execution_count": null,
   "metadata": {},
   "outputs": [],
   "source": [
    "#Write List comprehensions to produce the following Lists\n",
    "#['x', 'y', 'z', 'xx', 'yy', 'zz', 'xx', 'yy', 'zz', 'xxxx', 'yyyy', 'zzzz']"
   ]
  },
  {
   "cell_type": "code",
   "execution_count": 6,
   "metadata": {},
   "outputs": [
    {
     "data": {
      "text/plain": [
       "['x', 'y', 'z', 'xx', 'yy', 'zz', 'xxx', 'yyy', 'zzz', 'xxxx', 'yyyy', 'zzzz']"
      ]
     },
     "execution_count": 6,
     "metadata": {},
     "output_type": "execute_result"
    }
   ],
   "source": [
    "list = ['x','y','z']\n",
    "list1 = [1,2,3,4]\n",
    "[(e)*n for e in list1 for n in list]"
   ]
  },
  {
   "cell_type": "code",
   "execution_count": null,
   "metadata": {},
   "outputs": [],
   "source": [
    "#Write List comprehensions to produce the following Lists\n",
    "#[[2], [3], [4], [3], [4], [5], [4], [5], [6]]"
   ]
  },
  {
   "cell_type": "code",
   "execution_count": 19,
   "metadata": {},
   "outputs": [
    {
     "data": {
      "text/plain": [
       "[[2], [3], [4], [3], [4], [5], [4], [5], [6]]"
      ]
     },
     "execution_count": 19,
     "metadata": {},
     "output_type": "execute_result"
    }
   ],
   "source": [
    "r1 = range(0,3)\n",
    "r2 = range(2,5)\n",
    "[[i+j] for j in r1 for i in r2]"
   ]
  },
  {
   "cell_type": "code",
   "execution_count": null,
   "metadata": {},
   "outputs": [],
   "source": [
    "#Write List comprehensions to produce the following Lists\n",
    "#[[2, 3, 4, 5], [3, 4, 5, 6], [4, 5, 6, 7], [5, 6, 7, 8]]"
   ]
  },
  {
   "cell_type": "code",
   "execution_count": 20,
   "metadata": {},
   "outputs": [
    {
     "data": {
      "text/plain": [
       "[[2, 3, 4, 5], [3, 4, 5, 6], [4, 5, 6, 7], [5, 6, 7, 8]]"
      ]
     },
     "execution_count": 20,
     "metadata": {},
     "output_type": "execute_result"
    }
   ],
   "source": [
    "r1 = range(0,4)\n",
    "r2 = range(2,6)\n",
    "\n",
    "[[i+j for j in r1] for i in r2]"
   ]
  },
  {
   "cell_type": "code",
   "execution_count": null,
   "metadata": {},
   "outputs": [],
   "source": [
    "#Write List comprehensions to produce the following Lists\n",
    "#[(1, 1), (2, 1), (3, 1), (1, 2), (2, 2), (3, 2), (1, 3), (2, 3), (3, 3)]"
   ]
  },
  {
   "cell_type": "code",
   "execution_count": 8,
   "metadata": {},
   "outputs": [
    {
     "data": {
      "text/plain": [
       "[(1, 1), (2, 1), (3, 1), (1, 2), (2, 2), (3, 2), (1, 3), (2, 3), (3, 3)]"
      ]
     },
     "execution_count": 8,
     "metadata": {},
     "output_type": "execute_result"
    }
   ],
   "source": [
    "x = range(1,4)\n",
    "y = range(1,4)\n",
    "\n",
    "[(a,b) for b in x for a in y]"
   ]
  },
  {
   "cell_type": "code",
   "execution_count": null,
   "metadata": {},
   "outputs": [],
   "source": [
    "#Implement a function longestWord() that takes a list of words and returns the longest one."
   ]
  },
  {
   "cell_type": "code",
   "execution_count": 10,
   "metadata": {},
   "outputs": [
    {
     "name": "stdout",
     "output_type": "stream",
     "text": [
      "Excellent\n"
     ]
    }
   ],
   "source": [
    "#function to get the longestWord \n",
    "\n",
    "def longestWord(listOfWords):\n",
    "    strInfo= ''\n",
    "    strlen = 0\n",
    "    for x in listOfWords:\n",
    "        if strlen < len(x):\n",
    "            strlen = len(x)\n",
    "            strInfo = x            \n",
    "    return strInfo    \n",
    "    \n",
    "#Belwo is the string from which we wish to get the longest word\n",
    "strInput = 'Hello how are you. This is Excellent'\n",
    "listOfWords = strInput.split()\n",
    "\n",
    "print(longestWord(listOfWords))"
   ]
  },
  {
   "cell_type": "code",
   "execution_count": null,
   "metadata": {},
   "outputs": [],
   "source": [
    "#Write a Python Program(with class concepts) to find the area of the triangle using the below\n",
    "#formula.\n",
    "#area = (s*(s-a)*(s-b)*(s-c)) ** 0.5\n",
    "#Function to take the length of the sides of triangle from user should be defined in the parent\n",
    "#class and function to calculate the area should be defined in subclass."
   ]
  },
  {
   "cell_type": "code",
   "execution_count": 12,
   "metadata": {},
   "outputs": [
    {
     "name": "stdout",
     "output_type": "stream",
     "text": [
      "Area from the triangle is --> 9.921567416492215\n"
     ]
    }
   ],
   "source": [
    "class Base_Poly:\n",
    "    def __init__(self, side1, side2, side3):\n",
    "        self.side1 = side1\n",
    "        self.side2 = side2\n",
    "        self.side3 = side3\n",
    "       \n",
    "    def get_side1(self):\n",
    "        print (\"Side1 is %d\" % self.side1)\n",
    "        return self.side1\n",
    "            \n",
    "    def get_side2(self):\n",
    "        print (\"Side2 is %d\" % self.side2)\n",
    "    \n",
    "    def get_side3(self):\n",
    "        print (\"Side3 is %d\" % self.side3)\n",
    "        \n",
    "    def __str__(self):\n",
    "        print(\"Base Class for Polynomial\")   \n",
    "        \n",
    "class Triangle(Base_Poly):\n",
    "    def __init__(self, side1, side2, side3):\n",
    "        Base_Poly.__init__(self, side1, side2, side3)\n",
    "                \n",
    "    def get_area(self):\n",
    "        s1 = float(self.side1)\n",
    "        s2 = float(self.side2)\n",
    "        s3 = float(self.side3)\n",
    "        s = (s1 + s2 + s3)/2\n",
    "        area = (s*(s-s1)*(s-s2)*(s-s3))**.5\n",
    "        return area\n",
    "    \n",
    "    def __str__(self):\n",
    "        print(\"Derived Class Triangle\")\n",
    "        \n",
    "\n",
    "#Defining Triange with sides as 4,5,6\n",
    "Tri = Triangle(4,5,6)\n",
    "#Area of Triangle being printed below\n",
    "print('Area from the triangle is -->',Tri.get_area())"
   ]
  },
  {
   "cell_type": "code",
   "execution_count": 13,
   "metadata": {},
   "outputs": [],
   "source": [
    "#1.2\n",
    "#Write a function filter_long_words() that takes a list of words and an integer n and returns the list\n",
    "#of words that are longer than n."
   ]
  },
  {
   "cell_type": "code",
   "execution_count": 14,
   "metadata": {},
   "outputs": [
    {
     "name": "stdout",
     "output_type": "stream",
     "text": [
      "['Hello', 'how', 'are', 'you.', 'This', 'Excellent']\n"
     ]
    }
   ],
   "source": [
    "#Function to Filter words longer than the num being passed as parameter\n",
    "def filter_long_words(listOfWords, num):\n",
    "    num = int(num)\n",
    "    l=[]\n",
    "    for x in listOfWords:\n",
    "        if len(x) > num:\n",
    "            l.append(x)\n",
    "    return l\n",
    "\n",
    "#String being defined which will be passed as parameter\n",
    "strInput = 'Hello how are you. This is Excellent'\n",
    "listOfWords = strInput.split()\n",
    "#Function being call to get the words longer than 2 characters\n",
    "print(filter_long_words(listOfWords,2))"
   ]
  },
  {
   "cell_type": "code",
   "execution_count": null,
   "metadata": {},
   "outputs": [],
   "source": [
    "2.1\n",
    "Write a Python program using function concept that maps list of words into a list of integers\n",
    "representing the lengths of the corresponding words .\n",
    "Hint: If a list [ ab,cde,erty] is passed on to the python function output should come as [2,3,4]\n",
    "Here 2,3 and 4 are the lengths of the words in the list."
   ]
  },
  {
   "cell_type": "code",
   "execution_count": 23,
   "metadata": {},
   "outputs": [
    {
     "name": "stdout",
     "output_type": "stream",
     "text": [
      "Input String is->  This is Excellent\n",
      "Output from the function is -> \n"
     ]
    },
    {
     "data": {
      "text/plain": [
       "[4, 2, 9]"
      ]
     },
     "execution_count": 23,
     "metadata": {},
     "output_type": "execute_result"
    }
   ],
   "source": [
    "def lenOfWords(listOfWords):\n",
    "    l = []\n",
    "    for x in listOfWords:\n",
    "        l.append(len(x))\n",
    "    return l\n",
    "\n",
    "strInput = 'This is Excellent'\n",
    "listOfWords = strInput.split()\n",
    "\n",
    "print('Input String is-> ',strInput)\n",
    "listOfWords\n",
    "\n",
    "print('Output from the function is -> ')\n",
    "lenOfWords(listOfWords)"
   ]
  }
 ],
 "metadata": {
  "kernelspec": {
   "display_name": "Python 3",
   "language": "python",
   "name": "python3"
  },
  "language_info": {
   "codemirror_mode": {
    "name": "ipython",
    "version": 3
   },
   "file_extension": ".py",
   "mimetype": "text/x-python",
   "name": "python",
   "nbconvert_exporter": "python",
   "pygments_lexer": "ipython3",
   "version": "3.6.4"
  }
 },
 "nbformat": 4,
 "nbformat_minor": 2
}
